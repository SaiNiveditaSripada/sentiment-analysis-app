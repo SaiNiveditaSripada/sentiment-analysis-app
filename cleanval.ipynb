{
 "cells": [
  {
   "cell_type": "code",
   "execution_count": 1,
   "id": "223c1994",
   "metadata": {},
   "outputs": [],
   "source": [
    "import pandas as pd\n",
    "import re\n",
    "import nltk\n",
    "from nltk.corpus import stopwords\n",
    "from nltk.stem import WordNetLemmatizer"
   ]
  },
  {
   "cell_type": "code",
   "execution_count": 22,
   "id": "d68c5179",
   "metadata": {},
   "outputs": [
    {
     "name": "stderr",
     "output_type": "stream",
     "text": [
      "[nltk_data] Downloading package stopwords to /Users/nivedita-\n",
      "[nltk_data]     pt7916/nltk_data...\n",
      "[nltk_data]   Package stopwords is already up-to-date!\n",
      "[nltk_data] Downloading package wordnet to /Users/nivedita-\n",
      "[nltk_data]     pt7916/nltk_data...\n",
      "[nltk_data]   Package wordnet is already up-to-date!\n",
      "[nltk_data] Downloading package omw-1.4 to /Users/nivedita-\n",
      "[nltk_data]     pt7916/nltk_data...\n",
      "[nltk_data]   Package omw-1.4 is already up-to-date!\n"
     ]
    },
    {
     "data": {
      "text/plain": [
       "True"
      ]
     },
     "execution_count": 22,
     "metadata": {},
     "output_type": "execute_result"
    }
   ],
   "source": [
    "nltk.download('stopwords')\n",
    "nltk.download('wordnet')\n",
    "nltk.download('omw-1.4')"
   ]
  },
  {
   "cell_type": "code",
   "execution_count": 25,
   "id": "ad4f682a",
   "metadata": {},
   "outputs": [],
   "source": [
    "stopwords=set(stopwords.words('english'))\n",
    "lemmatize=WordNetLemmatizer()"
   ]
  },
  {
   "cell_type": "code",
   "execution_count": 26,
   "id": "030570b1",
   "metadata": {},
   "outputs": [],
   "source": [
    "df=pd.read_csv('valset.csv',encoding='latin-1',header=None)\n",
    "df.columns=['tweetid','entity','label','tweet']\n",
    "df=df[['label','tweet']]\n"
   ]
  },
  {
   "cell_type": "code",
   "execution_count": 27,
   "id": "9a2949d3",
   "metadata": {},
   "outputs": [],
   "source": [
    "df = df[df['tweet'].str.strip() != '']\n",
    "df = df[df['label'].str.lower() != 'neutral']\n",
    "df = df[df['label'].str.lower() != 'irrelevant']\n",
    "df.dropna(subset=['tweet', 'label'], inplace=True)"
   ]
  },
  {
   "cell_type": "code",
   "execution_count": 28,
   "id": "dcdccdfe",
   "metadata": {},
   "outputs": [],
   "source": [
    "def clean_text(text):\n",
    "    text = re.sub(r'[^a-zA-Z\\s]', '', text)\n",
    "    text=text.lower()\n",
    "    text=re.sub(r'@[\\w]+', '', text)                \n",
    "    text = re.sub(r'https?://\\S+', '', text)  \n",
    "    text = re.sub(r'#', '', text)                                \n",
    "    text = re.sub(r'\\s+', ' ', text).strip()\n",
    "    tokens=text.split()\n",
    "    tokens=[lemmatize.lemmatize(word) for word in tokens if word not in stopwords]\n",
    "    return ' '.join(tokens)"
   ]
  },
  {
   "cell_type": "code",
   "execution_count": 29,
   "id": "5cd889fa",
   "metadata": {},
   "outputs": [],
   "source": [
    "df['clean_tweet']=df['tweet'].apply(clean_text)\n",
    "df=df[['label','clean_tweet']]\n"
   ]
  },
  {
   "cell_type": "code",
   "execution_count": 30,
   "id": "8501864d",
   "metadata": {},
   "outputs": [],
   "source": [
    "df.to_csv('cleaned_val.csv', index=False)"
   ]
  }
 ],
 "metadata": {
  "kernelspec": {
   "display_name": "pyenv12",
   "language": "python",
   "name": "python3"
  },
  "language_info": {
   "codemirror_mode": {
    "name": "ipython",
    "version": 3
   },
   "file_extension": ".py",
   "mimetype": "text/x-python",
   "name": "python",
   "nbconvert_exporter": "python",
   "pygments_lexer": "ipython3",
   "version": "3.12.9"
  }
 },
 "nbformat": 4,
 "nbformat_minor": 5
}
