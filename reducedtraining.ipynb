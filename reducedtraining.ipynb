{
 "cells": [
  {
   "cell_type": "code",
   "execution_count": 1,
   "id": "af1cdd9c",
   "metadata": {},
   "outputs": [],
   "source": [
    "from sklearn.model_selection import train_test_split\n",
    "import pandas as pd"
   ]
  },
  {
   "cell_type": "code",
   "execution_count": 2,
   "id": "6c7cb2cc",
   "metadata": {},
   "outputs": [],
   "source": [
    "full_train_df=pd.read_csv('cleaned_train.csv')\n",
    "label_column='label'"
   ]
  },
  {
   "cell_type": "code",
   "execution_count": 5,
   "id": "5de506ff",
   "metadata": {},
   "outputs": [],
   "source": [
    "new_train_df,test_df=train_test_split(full_train_df,test_size=0.15,stratify=full_train_df[label_column],random_state=42)"
   ]
  },
  {
   "cell_type": "code",
   "execution_count": 7,
   "id": "998733e5",
   "metadata": {},
   "outputs": [],
   "source": [
    "new_train_df.to_csv('pool_train.csv')\n",
    "test_df.to_csv('final_test.csv')"
   ]
  },
  {
   "cell_type": "code",
   "execution_count": 8,
   "id": "e2ddfa0d",
   "metadata": {},
   "outputs": [],
   "source": [
    "final_train_df,_=train_test_split(new_train_df, train_size=150000,stratify=new_train_df[label_column],random_state=42)"
   ]
  },
  {
   "cell_type": "code",
   "execution_count": 9,
   "id": "c756651d",
   "metadata": {},
   "outputs": [],
   "source": [
    "final_train_df.to_csv('final_train.csv')"
   ]
  }
 ],
 "metadata": {
  "kernelspec": {
   "display_name": "pyenv12",
   "language": "python",
   "name": "python3"
  },
  "language_info": {
   "codemirror_mode": {
    "name": "ipython",
    "version": 3
   },
   "file_extension": ".py",
   "mimetype": "text/x-python",
   "name": "python",
   "nbconvert_exporter": "python",
   "pygments_lexer": "ipython3",
   "version": "3.12.9"
  }
 },
 "nbformat": 4,
 "nbformat_minor": 5
}
