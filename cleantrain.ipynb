{
 "cells": [
  {
   "cell_type": "code",
   "execution_count": 1,
   "id": "fc185ce3",
   "metadata": {},
   "outputs": [],
   "source": [
    "import pandas as pd\n",
    "import re\n",
    "import nltk\n",
    "from nltk.corpus import stopwords\n",
    "from nltk.stem import WordNetLemmatizer"
   ]
  },
  {
   "cell_type": "code",
   "execution_count": 2,
   "id": "ba3deb41",
   "metadata": {},
   "outputs": [
    {
     "name": "stderr",
     "output_type": "stream",
     "text": [
      "[nltk_data] Downloading package stopwords to /Users/nivedita-\n",
      "[nltk_data]     pt7916/nltk_data...\n",
      "[nltk_data]   Package stopwords is already up-to-date!\n",
      "[nltk_data] Downloading package wordnet to /Users/nivedita-\n",
      "[nltk_data]     pt7916/nltk_data...\n",
      "[nltk_data]   Package wordnet is already up-to-date!\n",
      "[nltk_data] Downloading package omw-1.4 to /Users/nivedita-\n",
      "[nltk_data]     pt7916/nltk_data...\n",
      "[nltk_data]   Package omw-1.4 is already up-to-date!\n"
     ]
    },
    {
     "data": {
      "text/plain": [
       "True"
      ]
     },
     "execution_count": 2,
     "metadata": {},
     "output_type": "execute_result"
    }
   ],
   "source": [
    "nltk.download('stopwords')\n",
    "nltk.download('wordnet')\n",
    "nltk.download('omw-1.4')"
   ]
  },
  {
   "cell_type": "code",
   "execution_count": 3,
   "id": "000efe68",
   "metadata": {},
   "outputs": [],
   "source": [
    "stopwords=set(stopwords.words('english'))\n",
    "lemmatize=WordNetLemmatizer()"
   ]
  },
  {
   "cell_type": "code",
   "execution_count": 4,
   "id": "63a1cdc4",
   "metadata": {},
   "outputs": [],
   "source": [
    "df=pd.read_csv(\"raw_sentiment.csv\", encoding=\"latin-1\", header=None)\n",
    "df.columns=['target','id','date','query','user','text']\n",
    "df=df[['target','text']]\n",
    "label_map={0:'Negative',2:'Neutral',4:'Positive'}\n",
    "df['label']=df['target'].map(label_map)\n"
   ]
  },
  {
   "cell_type": "code",
   "execution_count": 6,
   "id": "b467b78d",
   "metadata": {},
   "outputs": [],
   "source": [
    "def clean_text(text):\n",
    "    text=text.lower()\n",
    "    text=re.sub(r'@[\\w]+', '', text)                \n",
    "    text = re.sub(r'https?://\\S+', '', text)  \n",
    "    text = re.sub(r'#', '', text)                     \n",
    "    text = re.sub(r'[^a-zA-Z\\s]', '', text)           \n",
    "    text = re.sub(r'\\s+', ' ', text).strip()\n",
    "    tokens=text.split()\n",
    "    tokens=[lemmatize.lemmatize(word) for word in tokens if word not in stopwords]\n",
    "    return ' '.join(tokens)"
   ]
  },
  {
   "cell_type": "code",
   "execution_count": 7,
   "id": "18517cf4",
   "metadata": {},
   "outputs": [],
   "source": [
    "df['clean_tweet']=df['text'].apply(clean_text)\n",
    "df = df[df['label'].str.lower() != 'neutral']\n",
    "df = df[df['clean_tweet'].str.strip() != '']\n",
    "df.dropna(subset=['clean_tweet', 'label'], inplace=True)\n",
    "df=df[['label','clean_tweet']]\n"
   ]
  },
  {
   "cell_type": "code",
   "execution_count": 8,
   "id": "f7c0a9d1",
   "metadata": {},
   "outputs": [],
   "source": [
    "df.to_csv(\"cleaned_train.csv\", index=False)"
   ]
  }
 ],
 "metadata": {
  "kernelspec": {
   "display_name": "pyenv12",
   "language": "python",
   "name": "python3"
  },
  "language_info": {
   "codemirror_mode": {
    "name": "ipython",
    "version": 3
   },
   "file_extension": ".py",
   "mimetype": "text/x-python",
   "name": "python",
   "nbconvert_exporter": "python",
   "pygments_lexer": "ipython3",
   "version": "3.12.9"
  }
 },
 "nbformat": 4,
 "nbformat_minor": 5
}
